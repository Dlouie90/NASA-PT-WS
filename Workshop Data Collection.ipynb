{
 "cells": [
  {
   "cell_type": "code",
   "execution_count": 1,
   "metadata": {},
   "outputs": [],
   "source": [
    "import subprocess\n",
    "\n",
    "\n",
    "result = subprocess.run(['ping', 'youtube.com'], stdout=subprocess.PIPE).stdout.decode('utf-8')"
   ]
  },
  {
   "cell_type": "code",
   "execution_count": 2,
   "metadata": {},
   "outputs": [
    {
     "name": "stdout",
     "output_type": "stream",
     "text": [
      "\r\n",
      "Pinging youtube.com [216.58.193.206] with 32 bytes of data:\r\n",
      "Reply from 216.58.193.206: bytes=32 time=5ms TTL=55\r\n",
      "Reply from 216.58.193.206: bytes=32 time=5ms TTL=55\r\n",
      "Reply from 216.58.193.206: bytes=32 time=6ms TTL=55\r\n",
      "Reply from 216.58.193.206: bytes=32 time=5ms TTL=55\r\n",
      "\r\n",
      "Ping statistics for 216.58.193.206:\r\n",
      "    Packets: Sent = 4, Received = 4, Lost = 0 (0% loss),\r\n",
      "Approximate round trip times in milli-seconds:\r\n",
      "    Minimum = 5ms, Maximum = 6ms, Average = 5ms\r\n",
      "\n"
     ]
    }
   ],
   "source": [
    "print(result)"
   ]
  },
  {
   "cell_type": "code",
   "execution_count": 16,
   "metadata": {},
   "outputs": [
    {
     "data": {
      "image/png": "[encoded data removed]",
      "text/plain": [
       "<matplotlib.figure.Figure at 0x1b4c73d1cc0>"
      ]
     },
     "metadata": {},
     "output_type": "display_data"
    }
   ],
   "source": [
    "import numpy as np\n",
    "import pandas as pd\n",
    "from matplotlib import pyplot as plt\n",
    "\n",
    "from sklearn.linear_model import LinearRegression\n",
    "\n",
    "# Reading data from file location (\\\\ is the escape character for \\)\n",
    "df = pd.read_csv('C:\\\\Users\\\\TallGuy\\\\DIRECTSTEM\\\\Summer_2018-PTWS\\\\candy_bar_prices.csv')\n",
    "\n",
    "# display the head (first five rows) from the data\n",
    "df.head() \n",
    "\n",
    "# LinearRegression will expect an array of shape (n, 1) for the \"Training data\"\n",
    "X = df['Candy Bar Weight in Grams'].values[:,np.newaxis]\n",
    "\n",
    "# \"Target data\" is array of shape (n,)\n",
    "y = df['Candy Bar Prices in USD'].values\n",
    "\n",
    "# Setting the Linear Regression model to a variable and fitting the data\n",
    "lr_model = LinearRegression()\n",
    "lr_model.fit(X, y)\n",
    "\n",
    "# ploting the points into the scatter plot\n",
    "plt.scatter(X, y,color='g')\n",
    "# ploting the best line of fit for the scatter plot\n",
    "plt.plot(X, lr_model.predict(X),color='k')\n",
    "\n",
    "# displaying the plot graph\n",
    "plt.show()"
   ]
  },
  {
   "cell_type": "code",
   "execution_count": 2,
   "metadata": {},
   "outputs": [
    {
     "data": {
      "image/png": "[encoded data removed]",
      "text/plain": [
       "<matplotlib.figure.Figure at 0x2293b46b550>"
      ]
     },
     "metadata": {},
     "output_type": "display_data"
    }
   ],
   "source": [
    "import numpy as np\n",
    "import pandas as pd\n",
    "from matplotlib import pyplot as plt\n",
    "\n",
    "from sklearn.linear_model import LinearRegression\n",
    "\n",
    "# Reading data from file location (\\\\ is the escape character for \\)\n",
    "df = pd.read_csv('C:\\\\Users\\\\TallGuy\\\\DIRECTSTEM\\\\Summer_2018-PTWS\\\\isaac.csv')\n",
    "\n",
    "# display the head (first five rows) from the data\n",
    "df.head() \n",
    "\n",
    "# LinearRegression will expect an array of shape (n, 1) for the \"Training data\"\n",
    "X = df['unix_time'].values[:,np.newaxis]\n",
    "\n",
    "# \"Target data\" is array of shape (n,)\n",
    "y = df['response_time'].values\n",
    "\n",
    "# Setting the Linear Regression model to a variable and fitting the data\n",
    "lr_model = LinearRegression()\n",
    "lr_model.fit(X, y)\n",
    "\n",
    "# ploting the points into the scatter plot\n",
    "plt.scatter(X, y,color='g')\n",
    "# ploting the best line of fit for the scatter plot\n",
    "plt.plot(X, lr_model.predict(X),color='k')\n",
    "\n",
    "# displaying the plot graph\n",
    "plt.show()"
   ]
  },
  {
   "cell_type": "code",
   "execution_count": 6,
   "metadata": {},
   "outputs": [
    {
     "name": "stdout",
     "output_type": "stream",
     "text": [
      "[8214562.84112045]\n"
     ]
    }
   ],
   "source": [
    "value = lr_model.predict(1)\n",
    "print(value)"
   ]
  },
  {
   "cell_type": "code",
   "execution_count": null,
   "metadata": {},
   "outputs": [],
   "source": []
  }
 ],
 "metadata": {
  "kernelspec": {
   "display_name": "Python 3",
   "language": "python",
   "name": "python3"
  },
  "language_info": {
   "codemirror_mode": {
    "name": "ipython",
    "version": 3
   },
   "file_extension": ".py",
   "mimetype": "text/x-python",
   "name": "python",
   "nbconvert_exporter": "python",
   "pygments_lexer": "ipython3",
   "version": "3.6.4"
  }
 },
 "nbformat": 4,
 "nbformat_minor": 2
}
