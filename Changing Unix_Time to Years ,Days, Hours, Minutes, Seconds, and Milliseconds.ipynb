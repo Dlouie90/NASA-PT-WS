{
 "cells": [
  {
   "cell_type": "markdown",
   "metadata": {},
   "source": [
    "# Changing Unix Time using the Pandas Library"
   ]
  },
  {
   "cell_type": "code",
   "execution_count": 28,
   "metadata": {},
   "outputs": [],
   "source": [
    "# David-senpai-San's Example Function\n",
    "\n",
    "def convert(a):\n",
    "    y = a/31557600\n",
    "    d = ((y-int(y)) * 365.25)\n",
    "    h = ((d-int(d)) * 24)\n",
    "    m = ((h-int(h)) * 60)\n",
    "    s = ((m-int(m)) * 60)\n",
    "    ms = (s-int(s)) * 1000\n",
    "    print(\"Years:\",int(y), \"\\nDays:\",int(d), \"\\nHours:\",int(h), \"\\nMinutes:\",int(m), \"\\nSeconds:\",int(s), \"\\nMilliseconds:\",int(ms))"
   ]
  },
  {
   "cell_type": "code",
   "execution_count": 1,
   "metadata": {},
   "outputs": [],
   "source": [
    "import numpy as np\n",
    "import pandas as pd"
   ]
  },
  {
   "cell_type": "code",
   "execution_count": 24,
   "metadata": {},
   "outputs": [
    {
     "data": {
      "text/html": [
       "<div>\n",
       "<style scoped>\n",
       "    .dataframe tbody tr th:only-of-type {\n",
       "        vertical-align: middle;\n",
       "    }\n",
       "\n",
       "    .dataframe tbody tr th {\n",
       "        vertical-align: top;\n",
       "    }\n",
       "\n",
       "    .dataframe thead th {\n",
       "        text-align: right;\n",
       "    }\n",
       "</style>\n",
       "<table border=\"1\" class=\"dataframe\">\n",
       "  <thead>\n",
       "    <tr style=\"text-align: right;\">\n",
       "      <th></th>\n",
       "      <th>unix_time</th>\n",
       "      <th>response_time</th>\n",
       "    </tr>\n",
       "  </thead>\n",
       "  <tbody>\n",
       "    <tr>\n",
       "      <th>0</th>\n",
       "      <td>1.527705e+09</td>\n",
       "      <td>1</td>\n",
       "    </tr>\n",
       "    <tr>\n",
       "      <th>1</th>\n",
       "      <td>1.527705e+09</td>\n",
       "      <td>1</td>\n",
       "    </tr>\n",
       "    <tr>\n",
       "      <th>2</th>\n",
       "      <td>1.527705e+09</td>\n",
       "      <td>1</td>\n",
       "    </tr>\n",
       "    <tr>\n",
       "      <th>3</th>\n",
       "      <td>1.527705e+09</td>\n",
       "      <td>1</td>\n",
       "    </tr>\n",
       "    <tr>\n",
       "      <th>4</th>\n",
       "      <td>1.527705e+09</td>\n",
       "      <td>1</td>\n",
       "    </tr>\n",
       "  </tbody>\n",
       "</table>\n",
       "</div>"
      ],
      "text/plain": [
       "      unix_time  response_time\n",
       "0  1.527705e+09              1\n",
       "1  1.527705e+09              1\n",
       "2  1.527705e+09              1\n",
       "3  1.527705e+09              1\n",
       "4  1.527705e+09              1"
      ]
     },
     "execution_count": 24,
     "metadata": {},
     "output_type": "execute_result"
    }
   ],
   "source": [
    "df = pd.read_csv('C:/Users/dsan2/Desktop/parsed_data_youtube.csv')\n",
    "df.head()"
   ]
  },
  {
   "cell_type": "code",
   "execution_count": 26,
   "metadata": {},
   "outputs": [],
   "source": [
    "df['years'] = df['unix_time'] / 31557600\n",
    "df['days'] = (df['years'] - df['years'].astype(int)) * 365.25\n",
    "df['hours'] = (df['days'] - df['days'].astype(int)) * 24\n",
    "df['minutes'] = (df['hours'] - df['hours'].astype(int)) * 60\n",
    "df['seconds'] = (df['minutes'] - df['minutes'].astype(int)) * 60\n",
    "df['milliseconds'] = (df['seconds'] - df['seconds'].astype(int)) * 1000"
   ]
  },
  {
   "cell_type": "code",
   "execution_count": 27,
   "metadata": {},
   "outputs": [
    {
     "data": {
      "text/html": [
       "<div>\n",
       "<style scoped>\n",
       "    .dataframe tbody tr th:only-of-type {\n",
       "        vertical-align: middle;\n",
       "    }\n",
       "\n",
       "    .dataframe tbody tr th {\n",
       "        vertical-align: top;\n",
       "    }\n",
       "\n",
       "    .dataframe thead th {\n",
       "        text-align: right;\n",
       "    }\n",
       "</style>\n",
       "<table border=\"1\" class=\"dataframe\">\n",
       "  <thead>\n",
       "    <tr style=\"text-align: right;\">\n",
       "      <th></th>\n",
       "      <th>unix_time</th>\n",
       "      <th>response_time</th>\n",
       "      <th>years</th>\n",
       "      <th>days</th>\n",
       "      <th>hours</th>\n",
       "      <th>minutes</th>\n",
       "      <th>seconds</th>\n",
       "      <th>milliseconds</th>\n",
       "    </tr>\n",
       "  </thead>\n",
       "  <tbody>\n",
       "    <tr>\n",
       "      <th>0</th>\n",
       "      <td>1.527705e+09</td>\n",
       "      <td>1</td>\n",
       "      <td>48.41004</td>\n",
       "      <td>149.767135</td>\n",
       "      <td>18.411243</td>\n",
       "      <td>24.674594</td>\n",
       "      <td>40.475638</td>\n",
       "      <td>475.638497</td>\n",
       "    </tr>\n",
       "    <tr>\n",
       "      <th>1</th>\n",
       "      <td>1.527705e+09</td>\n",
       "      <td>1</td>\n",
       "      <td>48.41004</td>\n",
       "      <td>149.767147</td>\n",
       "      <td>18.411524</td>\n",
       "      <td>24.691444</td>\n",
       "      <td>41.486657</td>\n",
       "      <td>486.656970</td>\n",
       "    </tr>\n",
       "    <tr>\n",
       "      <th>2</th>\n",
       "      <td>1.527705e+09</td>\n",
       "      <td>1</td>\n",
       "      <td>48.41004</td>\n",
       "      <td>149.767159</td>\n",
       "      <td>18.411806</td>\n",
       "      <td>24.708376</td>\n",
       "      <td>42.502577</td>\n",
       "      <td>502.577342</td>\n",
       "    </tr>\n",
       "    <tr>\n",
       "      <th>3</th>\n",
       "      <td>1.527705e+09</td>\n",
       "      <td>1</td>\n",
       "      <td>48.41004</td>\n",
       "      <td>149.767170</td>\n",
       "      <td>18.412085</td>\n",
       "      <td>24.725093</td>\n",
       "      <td>43.505551</td>\n",
       "      <td>505.551108</td>\n",
       "    </tr>\n",
       "    <tr>\n",
       "      <th>4</th>\n",
       "      <td>1.527705e+09</td>\n",
       "      <td>1</td>\n",
       "      <td>48.41004</td>\n",
       "      <td>149.767182</td>\n",
       "      <td>18.412366</td>\n",
       "      <td>24.741969</td>\n",
       "      <td>44.518167</td>\n",
       "      <td>518.166998</td>\n",
       "    </tr>\n",
       "  </tbody>\n",
       "</table>\n",
       "</div>"
      ],
      "text/plain": [
       "      unix_time  response_time     years        days      hours    minutes  \\\n",
       "0  1.527705e+09              1  48.41004  149.767135  18.411243  24.674594   \n",
       "1  1.527705e+09              1  48.41004  149.767147  18.411524  24.691444   \n",
       "2  1.527705e+09              1  48.41004  149.767159  18.411806  24.708376   \n",
       "3  1.527705e+09              1  48.41004  149.767170  18.412085  24.725093   \n",
       "4  1.527705e+09              1  48.41004  149.767182  18.412366  24.741969   \n",
       "\n",
       "     seconds  milliseconds  \n",
       "0  40.475638    475.638497  \n",
       "1  41.486657    486.656970  \n",
       "2  42.502577    502.577342  \n",
       "3  43.505551    505.551108  \n",
       "4  44.518167    518.166998  "
      ]
     },
     "execution_count": 27,
     "metadata": {},
     "output_type": "execute_result"
    }
   ],
   "source": [
    "df.head()"
   ]
  },
  {
   "cell_type": "code",
   "execution_count": null,
   "metadata": {},
   "outputs": [],
   "source": []
  }
 ],
 "metadata": {
  "kernelspec": {
   "display_name": "Python 3",
   "language": "python",
   "name": "python3"
  },
  "language_info": {
   "codemirror_mode": {
    "name": "ipython",
    "version": 3
   },
   "file_extension": ".py",
   "mimetype": "text/x-python",
   "name": "python",
   "nbconvert_exporter": "python",
   "pygments_lexer": "ipython3",
   "version": "3.6.4"
  }
 },
 "nbformat": 4,
 "nbformat_minor": 2
}
